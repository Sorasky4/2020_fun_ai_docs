{
 "cells": [
  {
   "cell_type": "markdown",
   "execution_count": null,
   "metadata": {},
   "outputs": [],
   "source": [
    "# GitHub アカウントの作成\n",
    "GitHubとは、プログラムのバージョン管理システムを補助するシステムの1つだ。\n",
    "\n",
    "複数人で開発するときには必須と言ってもいいから、ここで導入を行う。ProcessingのソースなどもGitHubで管理すると何かと便利なことが多い。\n",
    "\n",
    "サークル資料も僕のGitHubに上がっているから、アカウントを作成したらダウンロードする。\n",
    "\n",
    "[公式サイト](https://github.com)にアクセスし、sign up を選択。とりあえずは学内メールで作るとよいだろう。\n",
    "\n",
    "![h300](./fig/01/)\n"
   ]
  },
  {
   "cell_type": "markdown",
   "execution_count": null,
   "metadata": {},
   "outputs": [],
   "source": [
    "# Python(Anconda)の環境構築\n",
    "\n",
    "注意！すでに環境構築されていて、自分の環境を汚したくない場合は、いい感じにやってください\n",
    "\n",
    "## Anacondaのインストール\n",
    "Anacondaとは機械学習やデータサイエンスのためのPythonディストリビューションです。様々なライブラリがデフォルトでインストールされていたり、複数の環境を用意できたりします。特に、複数の環境を用意できる点が嬉しく、プロジェクトごとにライブラリのバージョンを管理できます。\n",
    "\n",
    "それでは、環境を作って行きます。\n",
    "まずは[公式サイト](https://www.anaconda.com/distribution/#download-section)からダウンロードします。\n",
    "\n",
    "![](./fig/01/93542bfe9f90ae3cb2ca0f89c6d659a6.png)"
   ]
  },
  {
   "cell_type": "markdown",
   "execution_count": null,
   "metadata": {},
   "outputs": [],
   "source": [
    "Anaconda powershell を起動して、以下のコマンドを打つ。これで、`circle`という名前のconda環境が作られました。今後、特にこだわりが無ければ、`circle`環境を使うことを推奨する。\n",
    "\n",
    "```\n",
    "conda create circle\n",
    "conda acivate circle\n",
    "(circle)\n",
    "```\n",
    "\n",
    "(circle)とでたら成功"
   ]
  },
  {
   "cell_type": "markdown",
   "execution_count": null,
   "metadata": {},
   "outputs": [],
   "source": [
    "## PyTorchのインストール\n",
    "\n",
    "[公式サイト](https://pytorch.org)にアクセスして、欲しいバージョンや環境をクリックするとリンクを生成してくれる。Windowsの人は下に用意したのでセルを走らせるとよい。行頭の!はPythonセルでターミナルのコマンドを叩くときに使う。"
   ]
  },
  {
   "cell_type": "code",
   "execution_count": null,
   "metadata": {},
   "outputs": [],
   "source": [
    "!conda install pytorch torchvision cudatoolkit=10.1 -c pytorch -y"
   ]
  },
  {
   "cell_type": "markdown",
   "execution_count": null,
   "metadata": {},
   "outputs": [],
   "source": [
    "インストールが完了したら次のセルを実行して、エラーがでないか確認してください"
   ]
  },
  {
   "cell_type": "code",
   "execution_count": null,
   "metadata": {},
   "outputs": [],
   "source": [
    "import torch"
   ]
  },
  {
   "cell_type": "markdown",
   "execution_count": null,
   "metadata": {},
   "outputs": [],
   "source": [
    "ダウンロードしたライブラリは次のコマンドでも確認できる。"
   ]
  },
  {
   "cell_type": "code",
   "execution_count": null,
   "metadata": {},
   "outputs": [],
   "source": [
    "!conda list"
   ]
  },
  {
   "cell_type": "markdown",
   "execution_count": null,
   "metadata": {},
   "outputs": [],
   "source": []
  },
  {
   "cell_type": "markdown",
   "execution_count": null,
   "metadata": {},
   "outputs": [],
   "source": [
    "## VSCode のインストール\n",
    "[公式サイト]()からWindows 64bit 版をダウンロードする。ダウンロードしたらとりあえず起動してみる。  \n",
    "\n",
    "VSCodeは拡張機能が豊富で、いろいろなものがMarketplaceにある。ぜひ自分好みのVSCodeを作って欲しい。\n",
    "\n",
    "必須・おすすめのエクステンション(拡張機能)\n",
    "- Python\n",
    "- Japanese Language\n",
    "- Visual Studio Intelisince\n",
    "- zenkaku"
   ]
  },
  {
   "cell_type": "markdown",
   "execution_count": null,
   "metadata": {},
   "outputs": [],
   "source": [
    "## VSCode で jupyter notebook を使う方法\n",
    "\n",
    "VSCodeでjupyter notebook を使うこともできる。VSCodeの拡張機能でPythonを有効にする。新しいウィンドウを開く。(`ctrl-shift-n`) その後、フォルダを開く(`ctrl-k ctrk-o`) から `2020_fun_ai_docs`を選択する。VSCodeのリボンからターミナル(T)→新しいターミナルもしくは `ctrl-shift- ` を打つ。\n",
    "\n",
    "```cnosole\n",
    "> conda activate circle\n",
    "(circle) > jupyter notebook --no-browser --port=8888\n",
    "\n",
    "[I 13:35:47.749 NotebookApp] JupyterLab extension loaded from C:\\Users\\t4t5u0\\Anaconda3\\lib\\site-packages\\jupyterlab\n",
    "[I 13:35:47.749 NotebookApp] JupyterLab application directory is C:\\Users\\t4t5u0\\Anaconda3\\share\\jupyter\\lab\n",
    "[I 13:35:47.749 NotebookApp] Serving notebooks from local directory: C:\\Users\\t4t5u0\\Documents\\2020_fun_ai_docs\n",
    "[I 13:35:47.749 NotebookApp] The Jupyter Notebook is running at:\n",
    "[I 13:35:47.749 NotebookApp] http://localhost:8888/?token=hogehoge\n",
    "[I 13:35:47.749 NotebookApp] Use Control-C to stop this server and shut down all kernels (twice to skip confirmation).\n",
    "[C 13:35:47.812 NotebookApp]\n",
    "\n",
    "    To access the notebook, open this file in a browser:\n",
    "        file:///C:/Users/t4t5u0/AppData/Roaming/jupyter/runtime/nbserver-14124-open.html\n",
    "    Or copy and paste one of these URLs:\n",
    "        http://localhost:8888/?token=hogehoge\n",
    "```\n"
   ]
  },
  {
   "cell_type": "markdown",
   "execution_count": null,
   "metadata": {},
   "outputs": [],
   "source": [
    "`ctrl-shift-p`\n",
    "\n",
    "```Console\n",
    ">Python: Specify local or remote Jupyter server for connections\n",
    "Existing\n",
    "http://localhost:8888/?token=hogehoge\n",
    "```\n",
    "\n",
    "右上にJupyter Server: http://localhost:8888/?token=hogehoge と表示されていればよい。これでVSCode上でjupyter notebookを実行する手順が整った\n",
    "\n",
    "これで環境構築を終了する。\n"
   ]
  },
  {
   "cell_type": "code",
   "execution_count": null,
   "metadata": {},
   "outputs": [],
   "source": []
  }
 ],
 "metadata": {
  "kernelspec": {
   "display_name": "Python 3.7.3 64-bit ('base': conda)",
   "language": "python",
   "name": "python37364bitbaseconda429541fdaed24deaa7378a94fef3496a"
  },
  "language_info": {
   "codemirror_mode": {
    "name": "ipython",
    "version": 3
   },
   "file_extension": ".py",
   "mimetype": "text/x-python",
   "name": "python",
   "nbconvert_exporter": "python",
   "pygments_lexer": "ipython3",
   "version": "3.7.3-final"
  }
 },
 "nbformat": 4,
 "nbformat_minor": 2
}