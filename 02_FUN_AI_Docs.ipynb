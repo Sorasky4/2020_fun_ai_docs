{
 "cells": [
  {
   "cell_type": "markdown",
   "execution_count": null,
   "metadata": {},
   "outputs": [],
   "source": [
    "# FUN AI 第2回 深層学習とPyTorch\n"
   ]
  },
  {
   "cell_type": "markdown",
   "execution_count": null,
   "metadata": {},
   "outputs": [],
   "source": [
    "## 深層学習とは\n",
    "\n",
    "第0回でも触れたが、深層学習の定義として、\n",
    "\n",
    "機械学習のうち\n",
    "\n",
    "- 複雑なネットワークを用いる\n",
    "\n",
    "- 人間が特徴量抽出を行わない\n",
    "\n",
    "ものと覚えておけばとりあえずいいだろう。\n"
   ]
  },
  {
   "cell_type": "markdown",
   "execution_count": null,
   "metadata": {},
   "outputs": [],
   "source": [
    "## PyTorchとは\n",
    "Pythonによる深層学習向けのフレームワーク。\n",
    "\n",
    "公式より\n",
    ">PyTorch is an optimized tensor library for deep learning using GPUs and CPUs.\n",
    "\n",
    "PytTorchとは、GPU及びCPUを使用した、深層学習のために最適化されたテンソルライブラリである。\n",
    "\n",
    "資料でわからないことがあれば、https://pytorch.org/docs を調べれば大体は解決する"
   ]
  },
  {
   "cell_type": "markdown",
   "execution_count": null,
   "metadata": {},
   "outputs": [],
   "source": [
    "## 用語解説\n",
    "\n",
    "Python -> プログラミング言語の1つ。様々な分野のタスクを柔軟にこなせる。かつ、比較的書きやすいことから広く使われている。\n",
    "\n",
    "CPU -> Central Processing Unit の略。日本語にすると中央処理装置。PCには必ず搭載されており、キーボードやマウスなどから入力を受け取り、画面などへ出力を行う。コンピュータの制御・演算を行うことからコンピュータの頭脳と例えられることがある。\n",
    "\n",
    "GPU -> Graphics Processing Unit の略。元は描画処理特化のパーツだったが、近年GPGPU(General-purpose computing on GPU)という技術が発達し、その厖大な処理能力を、深層学習など他のタスクなどにも転用できるようになった。その結果、深層学習モデルの学習を今までよりも高速に行えるようになった。深層学習が流行した一端を担っている。\n",
    "\n",
    "テンソル -> ベクトルや行列の拡張表現。スカラを0階テンソル、ベクトルを1階テンソル。行列を2階テンソルとし、3階、4階…と次元が上がっていく。以下にサンプルコード示し、さらに解説する。\n",
    "\n",
    "ライブラリ -> プログラミング言語におけるライブラリとは、汎用性の高いプログラムをひとまとめにしたものをいう。ライブラリ単体では動作しないことが多い。ライブラリ(図書館)から便利なプログラム(本)を引き出して使うイメージ。\n",
    "\n",
    "フレームワーク -> プログラミングにおけるフレームワークとは、それ単体でアプリケーションなどを立ち上げることができるもののことを指す。PyTorchは深層学習フレームワークであり、ライブラリである。"
   ]
  },
  {
   "cell_type": "markdown",
   "execution_count": null,
   "metadata": {},
   "outputs": [],
   "source": []
  },
  {
   "cell_type": "code",
   "execution_count": 1,
   "metadata": {},
   "outputs": [],
   "source": [
    "import torch"
   ]
  },
  {
   "cell_type": "markdown",
   "execution_count": null,
   "metadata": {},
   "outputs": [],
   "source": [
    "$$\n",
    "\\mathbf{a} \\,= (1, 2) \\\\\n",
    "\\mathbf{b} \\,= \\left(\n",
    "    \\begin{array}{c}\n",
    "    1 \\\\\n",
    "    2\n",
    "    \\end{array}\n",
    "    \\right)\n",
    "$$"
   ]
  },
  {
   "cell_type": "code",
   "execution_count": 2,
   "metadata": {},
   "outputs": [
    {
     "name": "stdout",
     "output_type": "stream",
     "text": "tensor([1., 2.])\ntensor([[1.],\n        [2.]])\n"
    }
   ],
   "source": [
    "a = torch.Tensor([1, 2]) #行ベクトル\n",
    "b = torch.Tensor([[1], [2]]) #列ベクトル\n",
    "print(a)\n",
    "print(b)"
   ]
  },
  {
   "cell_type": "markdown",
   "execution_count": null,
   "metadata": {},
   "outputs": [],
   "source": [
    "$$\n",
    "\\mathbf{c} = \\left(\n",
    "    \\begin{array}{cc}\n",
    "    2 & 0\\\\\n",
    "    0 & 1\n",
    "    \\end{array}\n",
    "    \\right)\n",
    "$$    "
   ]
  },
  {
   "cell_type": "code",
   "execution_count": 3,
   "metadata": {},
   "outputs": [
    {
     "name": "stdout",
     "output_type": "stream",
     "text": "tensor([[2., 0.],\n        [0., 1.]])\ntorch.Size([2, 2])\n"
    }
   ],
   "source": [
    "c = torch.Tensor([[2, 0], [0, 1]]) # 2x2の行列\n",
    "print(c)\n",
    "print(c.size()) # size() でテンソルの大きさを確認できる"
   ]
  },
  {
   "cell_type": "code",
   "execution_count": 4,
   "metadata": {},
   "outputs": [
    {
     "data": {
      "text/plain": "tensor([5.])"
     },
     "execution_count": 4,
     "metadata": {},
     "output_type": "execute_result"
    }
   ],
   "source": [
    "torch.matmul(a,b) # aとbの内積"
   ]
  },
  {
   "cell_type": "markdown",
   "execution_count": null,
   "metadata": {},
   "outputs": [],
   "source": [
    "テンソルに対して、基本的な演算を行える\n",
    "\n",
    "まずは、cと同じく2x2の行列を宣言する"
   ]
  },
  {
   "cell_type": "code",
   "execution_count": 5,
   "metadata": {},
   "outputs": [
    {
     "name": "stdout",
     "output_type": "stream",
     "text": "tensor([[1., 2.],\n        [3., 1.]])\n"
    }
   ],
   "source": [
    "d = torch.Tensor([[1, 2], [3, 1]])\n",
    "print(d)"
   ]
  },
  {
   "cell_type": "markdown",
   "execution_count": null,
   "metadata": {},
   "outputs": [],
   "source": [
    "テンソルは、和、差、積、スカラ倍、転置　などの計算を行える。詳しくは線形代数学Ⅰの履修内容になっているから、そちらにゆずる。\n",
    "\n",
    "スカラ倍はいわゆるn倍、転置は行列の行と列を入れ替える演算"
   ]
  },
  {
   "cell_type": "code",
   "execution_count": 6,
   "metadata": {},
   "outputs": [
    {
     "name": "stdout",
     "output_type": "stream",
     "text": "c+d:\ntensor([[3., 2.],\n        [3., 2.]])\n\nc-d:\ntensor([[ 1., -2.],\n        [-3.,  0.]])\n\nc*d:\ntensor([[2., 4.],\n        [3., 1.]])\n\nd*c:\ntensor([[2., 2.],\n        [6., 1.]])\n\n3*d:\ntensor([[3., 6.],\n        [9., 3.]])\n\nd^T:\ntensor([[1., 3.],\n        [2., 1.]])\n\n"
    }
   ],
   "source": [
    "print(f'c+d:\\n{c+d}\\n')\n",
    "print(f'c-d:\\n{c-d}\\n')\n",
    "print(f'c*d:\\n{torch.matmul(c, d)}\\n')\n",
    "print(f'd*c:\\n{torch.matmul(d, c)}\\n')\n",
    "print(f'3*d:\\n{3*d}\\n')\n",
    "print(f'd^T:\\n{d.T}\\n')"
   ]
  },
  {
   "cell_type": "code",
   "execution_count": 7,
   "metadata": {},
   "outputs": [
    {
     "name": "stdout",
     "output_type": "stream",
     "text": "tensor([ 1.0519, -0.0645,  0.0273,  0.3637,  0.0766,  0.5249,  0.3954, -0.7209,\n        -0.0616,  0.7480,  0.5004,  0.6943,  2.3398,  1.1207, -0.3548,  0.2838,\n        -0.3148,  0.7196,  0.1566, -0.1723, -0.2954,  1.3535,  0.2098, -2.6082,\n        -0.8416, -1.4285, -0.2628, -1.9739,  0.7863, -0.9306,  0.9394, -0.8896,\n         1.1766,  0.7951, -0.2030, -0.8573, -0.5858,  0.4666, -1.0106,  1.3809,\n         1.2157, -0.7512,  0.7050, -0.3169,  0.7310, -0.3070, -0.1989, -0.3275,\n        -0.0459, -1.0946, -0.5937, -1.2438, -0.4862, -0.2881, -1.3332,  1.1361,\n         0.8391,  1.0147, -0.4156, -0.0106,  2.1524,  0.7468, -0.5361,  0.0484,\n        -0.6893,  0.6399,  0.5670, -0.5737, -1.0556,  0.7967, -0.7803, -1.0265,\n         0.2963,  0.6912,  0.3057, -1.7011,  0.1315,  1.5544, -0.4742, -0.5769,\n        -1.3889,  1.4070,  0.3627,  0.0367,  0.0777, -1.0405, -1.3172,  0.8097,\n         0.1165, -0.6504,  1.0830, -0.1918,  0.5579,  0.4584, -1.2918, -0.5396,\n         1.2470,  1.4069, -0.0531, -0.7902])\ntorch.Size([100])\n"
    }
   ],
   "source": [
    "z = torch.randn([100]) # 正規分布からランダムに取り出す\n",
    "print(z)\n",
    "print(z.size())"
   ]
  },
  {
   "cell_type": "code",
   "execution_count": 8,
   "metadata": {},
   "outputs": [
    {
     "name": "stdout",
     "output_type": "stream",
     "text": "tensor([[[1., 1.],\n         [1., 1.]],\n\n        [[1., 1.],\n         [1., 1.]]])\n"
    }
   ],
   "source": [
    "# 3階以上のテンソルも宣言できる\n",
    "a = torch.ones([2, 2, 2])\n",
    "print(a)"
   ]
  },
  {
   "cell_type": "markdown",
   "execution_count": null,
   "metadata": {},
   "outputs": [],
   "source": [
    "演習問題\n",
    "\n",
    "$$\n",
    "\\begin{align}\n",
    "\\mathbf{w} &= (1, 2, 3) \\\\\n",
    "\\mathbf{x} &= (x_1, x_2, x_3) \\\\\n",
    "\\mathbf{y} &= \\left(\n",
    "    \\begin{array}{ccc}\n",
    "    y_{11} & y_{12} & y_{13} \\\\\n",
    "    y_{21} & y_{22} & y_{23} \\\\\n",
    "    y_{31} & y_{32} & y_{33}\n",
    "    \\end{array}\n",
    "    \\right)\n",
    "\\end{align}\n",
    "$$\n",
    "について、以下を計算せよ\n",
    "\n",
    "(1) $\\mathbf{w} \\cdot \\mathbf{w}^T$ \n",
    "\n",
    "(2) $\\mathbf{w} \\cdot \\mathbf{x}^T$ \n",
    "\n",
    "(3) $\\mathbf{x} \\cdot \\mathbf{y}$"
   ]
  },
  {
   "cell_type": "markdown",
   "metadata": {},
   "source": [
    "## 附録 Pythonの基本的な文法\n",
    "Pythonは学部1年で触るProcessingとは異なる点が多い。最も大きな違いは、プログラミング上の意味の区切りが中括弧ではなく、空白。つまりはインデントで行われることだ。以下に基本的な文法を記すが、更に詳しいことを学びたい場合は、自分で調べるか、未来大学の競プロサークル FUNCoder に顔を出すといいだろう。"
   ]
  },
  {
   "cell_type": "markdown",
   "metadata": {},
   "source": [
    "### 代入\n",
    "代入とは、保存しておきたいものに名前をつけておくことである。  \n",
    "何でも入れられる箱に値を入れ、それに名前をつけると表現されることも多い。\n",
    "\n",
    "Pythonでは、変数名 = 変数 の形で代入が可能である。\n",
    "\n",
    "以下に x に 3 を代入する例を挙げる。"
   ]
  },
  {
   "cell_type": "code",
   "execution_count": 9,
   "metadata": {},
   "outputs": [],
   "source": [
    "x = 3"
   ]
  },
  {
   "cell_type": "markdown",
   "metadata": {},
   "source": [
    "### 入出力\n",
    "\n",
    "代入しただけでは、中身を確認することができない。そこで、入力と出力の例を示す。\n",
    "\n",
    "最も基本的な入力と出力の方法は以下の通り。\n",
    "\n",
    "入力には`input`を、出力には`print`を用いる。他にも色々あるが、とりあえずはこれらを覚えて良くと良いだろう。\n",
    "\n",
    "以下を実行したら、入力用のポップアップがでるから、それに従って文字を入力してほしい。"
   ]
  },
  {
   "cell_type": "code",
   "execution_count": 10,
   "metadata": {},
   "outputs": [
    {
     "name": "stdout",
     "output_type": "stream",
     "text": "\n"
    }
   ],
   "source": [
    "name = input()\n",
    "print(name)"
   ]
  },
  {
   "cell_type": "markdown",
   "metadata": {},
   "source": [
    "### 演算\n",
    "Pythonでの基本的な演算は以下の通り。この他にビット演算子なども存在する。"
   ]
  },
  {
   "cell_type": "code",
   "execution_count": 11,
   "metadata": {},
   "outputs": [
    {
     "name": "stdout",
     "output_type": "stream",
     "text": "足し算:5\n引き算:-1\n掛け算:6\n割り算:0.6666666666666666\n切捨て除算:0\nあまり:2\nべき乗:8\n商とあまりのペア:(0, 2)\n"
    }
   ],
   "source": [
    "x, y = 2, 3\n",
    "print(f'足し算:{x+y}')\n",
    "print(f'引き算:{x-y}')\n",
    "print(f'掛け算:{x*y}')\n",
    "print(f'割り算:{x/y}')\n",
    "print(f'切捨て除算:{x//y}')\n",
    "print(f'あまり:{x%y}')\n",
    "print(f'べき乗:{x**y}')\n",
    "print(f'商とあまりのペア:{divmod(x, y)}')"
   ]
  },
  {
   "cell_type": "markdown",
   "metadata": {},
   "source": [
    "### 関数\n",
    "プログラミングにおける関数とは、数学での関数をより一般化した概念である。\n",
    "\n",
    "ここでは、0個以上の引数を受け取り、何らかの動作をするものを関数。と定義する。\n",
    "\n",
    "入出力で使った　`input` と `print` も関数の1つである。"
   ]
  },
  {
   "cell_type": "code",
   "execution_count": 12,
   "metadata": {},
   "outputs": [
    {
     "name": "stdout",
     "output_type": "stream",
     "text": "my name is \n"
    }
   ],
   "source": [
    "name = input('what is your name')\n",
    "print(f'my name is {name}')"
   ]
  },
  {
   "cell_type": "markdown",
   "metadata": {},
   "source": [
    "### データ型\n",
    "プログラミングには、データ型(単に型とも)がある。型とは、あるデータの性質を表したものである。下の表はPythonの型の例である。型は他にもたくさん存在する。\n",
    "\n",
    "|型|説明|宣言例|\n",
    "|:-|:-|:-|\n",
    "|int|整数|x = 3|\n",
    "|float|浮動小数点数|x = 3.|\n",
    "|str|文字列|x = '3'|\n",
    "|bool|真偽値|x = True|\n",
    "\n",
    "型の確認には`type`関数を使う。以下は str型のa というデータと解釈できる"
   ]
  },
  {
   "cell_type": "code",
   "execution_count": null,
   "metadata": {},
   "outputs": [],
   "source": []
  },
  {
   "cell_type": "code",
   "execution_count": 13,
   "metadata": {},
   "outputs": [
    {
     "name": "stdout",
     "output_type": "stream",
     "text": "<class 'str'>\n"
    }
   ],
   "source": [
    "print(type('a'))"
   ]
  },
  {
   "cell_type": "markdown",
   "metadata": {},
   "source": [
    "### list\n",
    "複数のデータをひとまとめにして扱うデータ型の1つに`list`型がある。"
   ]
  },
  {
   "cell_type": "code",
   "execution_count": 14,
   "metadata": {},
   "outputs": [
    {
     "name": "stdout",
     "output_type": "stream",
     "text": "[1, 2, 3, 4, 5]\n<class 'list'>\n"
    }
   ],
   "source": [
    "a = [1, 2 ,3, 4, 5]\n",
    "print(a)\n",
    "print(type(a))"
   ]
  },
  {
   "cell_type": "markdown",
   "metadata": {},
   "source": [
    "list は float や str を要素に持つこともできる。"
   ]
  },
  {
   "cell_type": "code",
   "execution_count": 15,
   "metadata": {},
   "outputs": [],
   "source": [
    "b = ['a', 'i', 'u', 'e', 'o']\n",
    "c = [1.1, 1.2, 1.3, 1.4, 1.5]"
   ]
  },
  {
   "cell_type": "markdown",
   "metadata": {},
   "source": [
    "また、スライスといって、リストの要素にアクセスし取り出すこともできる\n",
    "\n",
    "`list_object[start:end:step]`\n",
    "\n",
    "と書き、startは開始位置、endは終了位置、stepは増分を表す。  \n",
    "それぞれ省略可能で、省略した場合は初期値が使われる。初期値はそれぞれ`start=0`、`end=len(list_object)-1`(終端)、`step=1`\n",
    "開始位置のみを指定した場合は、そのindexの値1つだけが取り出される\n",
    "\n",
    "indexに0より小さい整数を指定することもできる。その場合は末尾を-1, その手前を-2, -3 が指定される"
   ]
  },
  {
   "cell_type": "code",
   "execution_count": 36,
   "metadata": {},
   "outputs": [
    {
     "name": "stdout",
     "output_type": "stream",
     "text": "[1, 2, 3, 4, 5]\n2\n5\n5\n['a', 'u', 'o']\n['i', 'e']\n"
    }
   ],
   "source": [
    "print(a)\n",
    "print(a[1])\n",
    "print(a[len(a)-1])\n",
    "print(a[-1])\n",
    "print(b[::2])\n",
    "print(b[1::2])"
   ]
  },
  {
   "cell_type": "markdown",
   "metadata": {},
   "source": [
    "### if文\n",
    "条件分岐をするにはif文を使う。\n",
    "Pythonのif文は以下の通り。\n",
    "\n",
    "もっとも単純なものは\n",
    "```Python \n",
    "if 条件:\n",
    "    処理\n",
    "```\n",
    "\n",
    "意味の区切りの箇所ではインデントを用いる。半角スペース4つもしくはTabを挿入する。どちらか好きな方で良いが、統一すること\n",
    "\n",
    "if の条件を満たした時、満たさなかったときはif-elseを使う\n",
    "```Python \n",
    "if 条件:\n",
    "    処理\n",
    "else:\n",
    "    処理 # 条件を満たさなかったときの処理\n",
    "```\n",
    "\n",
    "条件を追加し、さらに複雑なこともできる。else if をつなげて elif を使う。  \n",
    "\n",
    "\n",
    "```Python \n",
    "if 条件1:\n",
    "    処理\n",
    "elif 条件2:\n",
    "    処理\n",
    "else:\n",
    "    処理\n",
    "```\n",
    "\n",
    "if文の中にif文を入れ子にすることもできる。\n",
    "\n",
    "```Python\n",
    "if 条件1:\n",
    "    if 条件2:\n",
    "        処理\n",
    "    処理\n",
    "else:\n",
    "    処理\n",
    "```"
   ]
  },
  {
   "cell_type": "code",
   "execution_count": 34,
   "metadata": {},
   "outputs": [
    {
     "name": "stdout",
     "output_type": "stream",
     "text": "x is 3\n"
    }
   ],
   "source": [
    "x = 3\n",
    "if x == 3:\n",
    "    print('x is 3')\n",
    "else:\n",
    "    print(\"x isn't 3\")"
   ]
  },
  {
   "cell_type": "markdown",
   "metadata": {},
   "source": [
    "### for文\n",
    "繰り返し処理(ループ)を行うためにはfor文を使う。  \n",
    "Pythonのfor文は他の言語でいうforeachとほぼ一緒である。\n",
    "\n",
    "文法は  \n",
    "```Python \n",
    "for アイテム in イテラブル:\n",
    "    処理\n",
    "```\n",
    "となる。詳しい意味はとりあえず置いておいて、処理の流れを解説する。"
   ]
  },
  {
   "cell_type": "code",
   "execution_count": 18,
   "metadata": {},
   "outputs": [
    {
     "name": "stdout",
     "output_type": "stream",
     "text": "2\n3\n5\n"
    }
   ],
   "source": [
    "for i in [2, 3, 5]:\n",
    "    print(i)"
   ]
  },
  {
   "cell_type": "markdown",
   "metadata": {},
   "source": [
    "listの先頭から1つずつ取り出して、それをiに代入しているのがわかるだろう。iに代入することができなくなったらループが終了する。\n",
    "\n",
    "rangeという連番生成用の関数を用いて以下のように書くことも多い"
   ]
  },
  {
   "cell_type": "code",
   "execution_count": 19,
   "metadata": {},
   "outputs": [
    {
     "name": "stdout",
     "output_type": "stream",
     "text": "0\n1\n2\n3\n4\n5\n6\n7\n8\n9\n"
    }
   ],
   "source": [
    "for i in range(10):\n",
    "    print(i)"
   ]
  },
  {
   "cell_type": "markdown",
   "metadata": {},
   "source": [
    "演習\n",
    "以下の条件を満たすプログラムをかけ。\n",
    "\n",
    "整数nが与えられる。  \n",
    "1からnまでの整数を表示せよ。ただし、\n",
    "- nが3の倍数ならば`Fizz`と出力する\n",
    "- nが5の倍数ならば`Buzz`と出力する\n",
    "- nが3と5の公倍数ならば`FizzBuzz`と出力する"
   ]
  },
  {
   "cell_type": "code",
   "execution_count": null,
   "metadata": {},
   "outputs": [],
   "source": []
  }
 ],
 "metadata": {
  "kernelspec": {
   "display_name": "Python 3.7.5 64-bit ('pytorch': conda)",
   "language": "python",
   "name": "python37564bitpytorchcondac1588a0183c145a7ad887ad140edf980"
  },
  "language_info": {
   "codemirror_mode": {
    "name": "ipython",
    "version": 3
   },
   "file_extension": ".py",
   "mimetype": "text/x-python",
   "name": "python",
   "nbconvert_exporter": "python",
   "pygments_lexer": "ipython3",
   "version": "3.7.4-final"
  }
 },
 "nbformat": 4,
 "nbformat_minor": 2
}