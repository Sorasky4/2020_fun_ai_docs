{
 "cells": [
  {
   "cell_type": "markdown",
   "metadata": {},
   "source": [
    "# MLP\n",
    "\n",
    "\n",
    "## 用語解説\n",
    "\n",
    "- MLPとは\n",
    "\n",
    "    Multi Layer Perceptron の略で、日本語にすると多層パーセプトロン。\n",
    "\n",
    "- パーセプトロン\n",
    "\n",
    "- 人工ニューロン\n",
    "\n",
    "- 活性化関数"
   ]
  },
  {
   "cell_type": "markdown",
   "metadata": {},
   "source": [
    "資料の流れ\n",
    "\n",
    "前回までで環境構築と深層学習のざっくりとした説明をした\n",
    "\n",
    "今回からは、実際に深層学習に触れていこうと思う\n",
    "\n",
    "まずは深層学習ｌｌｓｌtuｔつつｇつぎつぎｎつぎに次に- パーセプトロンとは\n",
    "- 重みとバイアス\n",
    "- ニューラルネットワーク\n",
    "- 活性化関数\n",
    "- 誤差関数\n",
    "- 最適化関数\n",
    "- "
   ]
  },
  {
   "cell_type": "code",
   "execution_count": 1,
   "metadata": {},
   "outputs": [],
   "source": [
    "import torch"
   ]
  },
  {
   "cell_type": "code",
   "execution_count": null,
   "metadata": {},
   "outputs": [],
   "source": []
  }
 ],
 "metadata": {
  "kernelspec": {
   "display_name": "Python 3.7.5 64-bit ('pytorch': conda)",
   "language": "python",
   "name": "python37564bitpytorchcondac1588a0183c145a7ad887ad140edf980"
  },
  "language_info": {
   "codemirror_mode": {
    "name": "ipython",
    "version": 3
   },
   "file_extension": ".py",
   "mimetype": "text/x-python",
   "name": "python",
   "nbconvert_exporter": "python",
   "pygments_lexer": "ipython3",
   "version": "3.7.5-final"
  }
 },
 "nbformat": 4,
 "nbformat_minor": 2
}