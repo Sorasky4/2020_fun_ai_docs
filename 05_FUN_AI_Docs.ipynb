{
 "cells": [
  {
   "cell_type": "markdown",
   "metadata": {},
   "source": [
    "# GAN\n",
    "\n",
    "## 用語解説\n",
    "\n",
    "GAN Generative Adversarial Network 敵対的生成ネットワーク "
   ]
  },
  {
   "cell_type": "markdown",
   "metadata": {},
   "source": [
    "今回はDCGANというモデルを実装していく\n",
    "DCGANとは、Deep Convolutional Generatorを用いるGANの一種だ。もう1つの特徴として、活性化関数にLeakyReLUを用いることが挙げられる。"
   ]
  },
  {
   "cell_type": "code",
   "execution_count": null,
   "metadata": {},
   "outputs": [],
   "source": [
    "#DCGAN の実装"
   ]
  }
 ],
 "metadata": {
  "kernelspec": {
   "display_name": "Python 3.7.3 64-bit ('base': conda)",
   "language": "python",
   "name": "python37364bitbaseconda429541fdaed24deaa7378a94fef3496a"
  },
  "language_info": {
   "codemirror_mode": {
    "name": "ipython",
    "version": 3
   },
   "file_extension": ".py",
   "mimetype": "text/x-python",
   "name": "python",
   "nbconvert_exporter": "python",
   "pygments_lexer": "ipython3",
   "version": "3.7.3"
  }
 },
 "nbformat": 4,
 "nbformat_minor": 2
}
