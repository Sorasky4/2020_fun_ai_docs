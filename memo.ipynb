{
 "cells": [
  {
   "cell_type": "code",
   "execution_count": 1,
   "metadata": {},
   "outputs": [],
   "source": [
    "import torch"
   ]
  },
  {
   "cell_type": "code",
   "execution_count": 4,
   "metadata": {},
   "outputs": [
    {
     "name": "stdout",
     "output_type": "stream",
     "text": [
      "tensor([0.2199, 0.2995, 0.1983, 0.1436, 0.0748, 0.2761, 0.0750, 0.2411, 0.0792,\n",
      "        0.1969])\n",
      "tensor([0.7932, 0.7608, 0.9912, 0.9605, 1.1392, 0.9643, 0.7811, 0.7398, 1.1905,\n",
      "        0.8647])\n"
     ]
    }
   ],
   "source": [
    "print(torch.zeros(10)+torch.rand(10)*0.3)\n",
    "print(torch.ones(10)*0.7+torch.rand(10)*0.5)"
   ]
  },
  {
   "cell_type": "code",
   "execution_count": null,
   "metadata": {},
   "outputs": [],
   "source": []
  }
 ],
 "metadata": {
  "kernelspec": {
   "display_name": "Python 3.7.3 64-bit ('base': conda)",
   "language": "python",
   "name": "python37364bitbaseconda429541fdaed24deaa7378a94fef3496a"
  },
  "language_info": {
   "codemirror_mode": {
    "name": "ipython",
    "version": 3
   },
   "file_extension": ".py",
   "mimetype": "text/x-python",
   "name": "python",
   "nbconvert_exporter": "python",
   "pygments_lexer": "ipython3",
   "version": "3.7.3"
  }
 },
 "nbformat": 4,
 "nbformat_minor": 2
}
